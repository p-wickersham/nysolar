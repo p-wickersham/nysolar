{
 "cells": [
  {
   "cell_type": "code",
   "execution_count": null,
   "id": "c6f783b5",
   "metadata": {},
   "outputs": [],
   "source": [
    "mport pandas as pd\n",
    "\n",
    "\n",
    "RTD = pd.read_csv(\"OASIS_Real_Time_Dispatch_Actual_Load_2021.csv\")"
   ]
  }
 ],
 "metadata": {
  "kernelspec": {
   "display_name": "Python 3",
   "language": "python",
   "name": "python3"
  },
  "language_info": {
   "codemirror_mode": {
    "name": "ipython",
    "version": 3
   },
   "file_extension": ".py",
   "mimetype": "text/x-python",
   "name": "python",
   "nbconvert_exporter": "python",
   "pygments_lexer": "ipython3",
   "version": "3.8.2"
  }
 },
 "nbformat": 4,
 "nbformat_minor": 5
}
